{
  "cells": [
    {
      "cell_type": "code",
      "source": [
        "import requests\n",
        "from bs4 import BeautifulSoup"
      ],
      "outputs": [],
      "execution_count": 10,
      "metadata": {
        "collapsed": false,
        "outputHidden": false,
        "inputHidden": false
      }
    },
    {
      "cell_type": "code",
      "source": [
        "url = 'https://www.prnewswire.com/news-releases/all-public-company-news/?page=1&pagesize=25'"
      ],
      "outputs": [],
      "execution_count": 11,
      "metadata": {
        "collapsed": false,
        "outputHidden": false,
        "inputHidden": false
      }
    },
    {
      "cell_type": "code",
      "source": [
        "def make_soup(url):\n",
        "    \"\"\"\n",
        "    Return a BeautifulSoup object for the given url\n",
        "    \"\"\"\n",
        "    response = requests.get(url)\n",
        "    html = response.content\n",
        "    return BeautifulSoup(html)"
      ],
      "outputs": [],
      "execution_count": 12,
      "metadata": {
        "collapsed": false,
        "outputHidden": false,
        "inputHidden": false
      }
    },
    {
      "cell_type": "code",
      "source": [
        "def parse(soup):\n",
        "    \"\"\"\n",
        "    Returns a list of tuples (Headline, Article URL, Datetime)\n",
        "    \"\"\"\n",
        "    \n",
        "    news_releases = soup.find_all(\"a\", attrs={'class': 'news-release'})\n",
        "    headlines = [(\n",
        "                    nr.get_text(), # headline text\n",
        "                    url + nr['href'], # url text\n",
        "                    nr.find_previous(\"small\").get_text() # date text\n",
        "                 ) for nr in news_releases]\n",
        "    \n",
        "    return headlines"
      ],
      "outputs": [],
      "execution_count": 13,
      "metadata": {
        "collapsed": false,
        "outputHidden": false,
        "inputHidden": false
      }
    },
    {
      "cell_type": "code",
      "source": [
        "soup = make_soup(url)\n",
        "headlines = parse(soup)\n",
        "len(headlines)"
      ],
      "outputs": [
        {
          "output_type": "stream",
          "name": "stderr",
          "text": [
            "C:\\Users\\Tin Hang\\Anaconda3\\envs\\py35\\lib\\site-packages\\bs4\\__init__.py:181: UserWarning: No parser was explicitly specified, so I'm using the best available HTML parser for this system (\"lxml\"). This usually isn't a problem, but if you run this code on another system, or in a different virtual environment, it may use a different parser and behave differently.\n",
            "\n",
            "The code that caused this warning is on line 193 of the file C:\\Users\\Tin Hang\\Anaconda3\\envs\\py35\\lib\\runpy.py. To get rid of this warning, change code that looks like this:\n",
            "\n",
            " BeautifulSoup([your markup])\n",
            "\n",
            "to this:\n",
            "\n",
            " BeautifulSoup([your markup], \"lxml\")\n",
            "\n",
            "  markup_type=markup_type))\n"
          ]
        },
        {
          "output_type": "execute_result",
          "execution_count": 14,
          "data": {
            "text/plain": [
              "25"
            ]
          },
          "metadata": {}
        }
      ],
      "execution_count": 14,
      "metadata": {
        "collapsed": false,
        "outputHidden": false,
        "inputHidden": false
      }
    },
    {
      "cell_type": "code",
      "source": [
        "headlines"
      ],
      "outputs": [
        {
          "output_type": "execute_result",
          "execution_count": 15,
          "data": {
            "text/plain": [
              "[('Duke Energy awards $3.2 million to innovative education programs as part of its Powerful Communities grant program',\n",
              "  'https://www.prnewswire.com/news-releases/all-public-company-news/?page=1&pagesize=25/news-releases/duke-energy-awards-3-2-million-to-innovative-education-programs-as-part-of-its-powerful-communities-grant-program-300840853.html',\n",
              "  '11:10 ET'),\n",
              " ('Princess Cruises Begins 50th Alaska Season',\n",
              "  'https://www.prnewswire.com/news-releases/all-public-company-news/?page=1&pagesize=25/news-releases/princess-cruises-begins-50th-alaska-season-300840848.html',\n",
              "  '11:00 ET'),\n",
              " ('KB Financial Group Inc. Files Its Annual Report on Form 20-F',\n",
              "  'https://www.prnewswire.com/news-releases/all-public-company-news/?page=1&pagesize=25/news-releases/kb-financial-group-inc-files-its-annual-report-on-form-20-f-300840799.html',\n",
              "  '11:00 ET'),\n",
              " ('Korea Electric Power Corporation Files 2018 Annual Report on Form 20-F',\n",
              "  'https://www.prnewswire.com/news-releases/all-public-company-news/?page=1&pagesize=25/news-releases/korea-electric-power-corporation-files-2018-annual-report-on-form-20-f-300840468.html',\n",
              "  '11:00 ET'),\n",
              " (\"Tickets Now Available for United's New Nonstop Service Between New York/Newark and Cape Town, South Africa\",\n",
              "  'https://www.prnewswire.com/news-releases/all-public-company-news/?page=1&pagesize=25/news-releases/tickets-now-available-for-uniteds-new-nonstop-service-between-new-yorknewark-and-cape-town-south-africa-300840841.html',\n",
              "  '10:55 ET'),\n",
              " ('PLANIGRUPO reporta un crecimiento de 6.6% en EBITDA y una tasa de ocupación superior al 94% en el 1T19',\n",
              "  'https://www.prnewswire.com/news-releases/all-public-company-news/?page=1&pagesize=25/news-releases/planigrupo-reporta-un-crecimiento-de-6-6-en-ebitda-y-una-tasa-de-ocupacion-superior-al-94-en-el-1t19-813202976.html',\n",
              "  '10:53 ET'),\n",
              " ('AbbVie apresenta Resultados Financeiros do primeiro trimestre de 2019',\n",
              "  'https://www.prnewswire.com/news-releases/all-public-company-news/?page=1&pagesize=25/news-releases/abbvie-apresenta-resultados-financeiros-do-primeiro-trimestre-de-2019-849337020.html',\n",
              "  '10:47 ET'),\n",
              " (\"Southwest Airlines' Rapid Rewards Recognized as Program of the Year and Three Other Top Honors at this Year's Freddie Awards\",\n",
              "  'https://www.prnewswire.com/news-releases/all-public-company-news/?page=1&pagesize=25/news-releases/southwest-airlines-rapid-rewards-recognized-as-program-of-the-year-and-three-other-top-honors-at-this-years-freddie-awards-300840611.html',\n",
              "  '10:45 ET'),\n",
              " ('The Bank of Princeton Has Received All Bank Regulatory Approvals to Acquire Five WSFS Bank Branches',\n",
              "  'https://www.prnewswire.com/news-releases/all-public-company-news/?page=1&pagesize=25/news-releases/the-bank-of-princeton-has-received-all-bank-regulatory-approvals-to-acquire-five-wsfs-bank-branches-300840838.html',\n",
              "  '10:41 ET'),\n",
              " ('FDA approves trade name Lexette(TM) (halobetasol propionate) foam, 0.05%',\n",
              "  'https://www.prnewswire.com/news-releases/all-public-company-news/?page=1&pagesize=25/news-releases/fda-approves-trade-name-lexettetm-halobetasol-propionate-foam-0-05-300840379.html',\n",
              "  '10:35 ET'),\n",
              " ('Canon U.S.A. Emerges as 2018 Market Share Leader for Advancements in Digital Imaging Solutions',\n",
              "  'https://www.prnewswire.com/news-releases/all-public-company-news/?page=1&pagesize=25/news-releases/canon-usa-emerges-as-2018-market-share-leader-for-advancements-in-digital-imaging-solutions-300840830.html',\n",
              "  '10:30 ET'),\n",
              " ('Eaton Vance Closed-End Funds Release Estimated Sources Of Distributions',\n",
              "  'https://www.prnewswire.com/news-releases/all-public-company-news/?page=1&pagesize=25/news-releases/eaton-vance-closed-end-funds-release-estimated-sources-of-distributions-300840824.html',\n",
              "  '10:28 ET'),\n",
              " ('Extension of Option for Long-term Charter with Aker Energy for the FPSO Dhirubhai-1',\n",
              "  'https://www.prnewswire.com/news-releases/all-public-company-news/?page=1&pagesize=25/news-releases/extension-of-option-for-long-term-charter-with-aker-energy-for-the-fpso-dhirubhai-1-300840825.html',\n",
              "  '10:28 ET'),\n",
              " ('Bradesco - Arquivamento do Formulário 20-F 2018',\n",
              "  'https://www.prnewswire.com/news-releases/all-public-company-news/?page=1&pagesize=25/news-releases/bradesco-arquivamento-do-formulario-20-f-2018-830696782.html',\n",
              "  '10:24 ET'),\n",
              " ('Zoomlion registra en 2018 un aumento de 52 por ciento en las ganancias respaldado por la recuperación económica y el logro de mayores eficiencias',\n",
              "  'https://www.prnewswire.com/news-releases/all-public-company-news/?page=1&pagesize=25/news-releases/zoomlion-registra-en-2018-un-aumento-de-52-por-ciento-en-las-ganancias-respaldado-por-la-recuperacion-economica-y-el-logro-de-mayores-eficiencias-871362992.html',\n",
              "  '10:22 ET'),\n",
              " ('EVERSANA and OptimizeRx Partner to Deliver High Tech and High Touch Pharmaceutical Services',\n",
              "  'https://www.prnewswire.com/news-releases/all-public-company-news/?page=1&pagesize=25/news-releases/eversana-and-optimizerx-partner-to-deliver-high-tech-and-high-touch-pharmaceutical-services-300840820.html',\n",
              "  '10:21 ET'),\n",
              " ('Bradesco - Filing of 2018 Form 20-F',\n",
              "  'https://www.prnewswire.com/news-releases/all-public-company-news/?page=1&pagesize=25/news-releases/bradesco---filing-of-2018-form-20-f-300840821.html',\n",
              "  '10:21 ET'),\n",
              " ('Royal Dutch Shell plc: Voting Rights and Capital',\n",
              "  'https://www.prnewswire.com/news-releases/all-public-company-news/?page=1&pagesize=25/news-releases/royal-dutch-shell-plc-voting-rights-and-capital-300840817.html',\n",
              "  '10:19 ET'),\n",
              " ('Johnson Matthey introduces the Mining CRT diesel emission control systems for underground mining equipment.',\n",
              "  'https://www.prnewswire.com/news-releases/all-public-company-news/?page=1&pagesize=25/news-releases/johnson-matthey-introduces-the-mining-crt-diesel-emission-control-systems-for-underground-mining-equipment-300839435.html',\n",
              "  '10:15 ET'),\n",
              " ('Spruce Point Capital Releases A Strong Sell Research Opinion On PetIQ, Inc. (Nasdaq: PETQ)',\n",
              "  'https://www.prnewswire.com/news-releases/all-public-company-news/?page=1&pagesize=25/news-releases/spruce-point-capital-releases-a-strong-sell-research-opinion-on-petiq-inc-nasdaq-petq-300840809.html',\n",
              "  '10:15 ET'),\n",
              " ('Build-A-Bear® And American Red Cross Partner To Give Thousands Of Furry Friends To Children Of Families In Crisis In 2019',\n",
              "  'https://www.prnewswire.com/news-releases/all-public-company-news/?page=1&pagesize=25/news-releases/build-a-bear-and-american-red-cross-partner-to-give-thousands-of-furry-friends-to-children-of-families-in-crisis-in-2019-300840609.html',\n",
              "  '10:15 ET'),\n",
              " ('Raytheon directed energy systems down multiple drones in US Air Force exercise',\n",
              "  'https://www.prnewswire.com/news-releases/all-public-company-news/?page=1&pagesize=25/news-releases/raytheon-directed-energy-systems-down-multiple-drones-in-us-air-force-exercise-300840802.html',\n",
              "  '10:00 ET'),\n",
              " ('Nimble Therapeutics Spins Out from Roche to Commercialize Novel Drug Discovery Technology with Financing from Telegraph Hill Partners',\n",
              "  'https://www.prnewswire.com/news-releases/all-public-company-news/?page=1&pagesize=25/news-releases/nimble-therapeutics-spins-out-from-roche-to-commercialize-novel-drug-discovery-technology-with-financing-from-telegraph-hill-partners-300840346.html',\n",
              "  '10:00 ET'),\n",
              " ('Digi International presenta Digi AnywhereUSB® más centros con USB por IP para conectar activos en toda la empresa',\n",
              "  'https://www.prnewswire.com/news-releases/all-public-company-news/?page=1&pagesize=25/news-releases/digi-international-presenta-digi-anywhereusb-r-mas-centros-con-usb-por-ip-para-conectar-activos-en-toda-la-empresa-822472093.html',\n",
              "  '10:00 ET'),\n",
              " ('Digi International Unveils Digi AnywhereUSB® Plus Hubs Featuring USB Over IP to Connect Assets Across the Enterprise',\n",
              "  'https://www.prnewswire.com/news-releases/all-public-company-news/?page=1&pagesize=25/news-releases/digi-international-unveils-digi-anywhereusb-plus-hubs-featuring-usb-over-ip-to-connect-assets-across-the-enterprise-300837858.html',\n",
              "  '10:00 ET')]"
            ]
          },
          "metadata": {}
        }
      ],
      "execution_count": 15,
      "metadata": {
        "collapsed": false,
        "outputHidden": false,
        "inputHidden": false
      }
    }
  ],
  "metadata": {
    "kernel_info": {
      "name": "python3"
    },
    "language_info": {
      "nbconvert_exporter": "python",
      "name": "python",
      "pygments_lexer": "ipython3",
      "file_extension": ".py",
      "codemirror_mode": {
        "name": "ipython",
        "version": 3
      },
      "mimetype": "text/x-python",
      "version": "3.5.5"
    },
    "kernelspec": {
      "name": "python3",
      "language": "python",
      "display_name": "Python 3"
    },
    "nteract": {
      "version": "0.14.0"
    }
  },
  "nbformat": 4,
  "nbformat_minor": 4
}