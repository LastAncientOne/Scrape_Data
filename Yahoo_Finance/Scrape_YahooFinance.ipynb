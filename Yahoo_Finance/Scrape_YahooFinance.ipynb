{
  "cells": [
    {
      "cell_type": "code",
      "source": [
        "import urllib.request\n",
        "from bs4 import BeautifulSoup"
      ],
      "outputs": [],
      "execution_count": null,
      "metadata": {
        "collapsed": false,
        "outputHidden": false,
        "inputHidden": false
      }
    },
    {
      "cell_type": "code",
      "source": [
        "# website page scrape\n",
        "url = 'https://finance.yahoo.com/quote/AMD/key-statistics?p=AMD'"
      ],
      "outputs": [],
      "execution_count": null,
      "metadata": {
        "collapsed": false,
        "outputHidden": false,
        "inputHidden": false
      }
    },
    {
      "cell_type": "code",
      "source": [
        "# adding header\n",
        "headers = {'User-Agent':'Mozilla/5.0 (Windows NT 10.0; Win64; x64; rv:59.0) Gecko/20100101 Firefox/59.0'}"
      ],
      "outputs": [],
      "execution_count": null,
      "metadata": {
        "collapsed": false,
        "outputHidden": false,
        "inputHidden": false
      }
    },
    {
      "cell_type": "code",
      "source": [
        "# Request with headers\n",
        "req = urllib.request.Request(url, headers=headers)"
      ],
      "outputs": [],
      "execution_count": null,
      "metadata": {
        "collapsed": false,
        "outputHidden": false,
        "inputHidden": false
      }
    },
    {
      "cell_type": "code",
      "source": [
        "resp = urllib.request.urlopen(req)"
      ],
      "outputs": [],
      "execution_count": null,
      "metadata": {
        "collapsed": false,
        "outputHidden": false,
        "inputHidden": false
      }
    },
    {
      "cell_type": "code",
      "source": [
        "html = resp.read()"
      ],
      "outputs": [],
      "execution_count": null,
      "metadata": {
        "collapsed": false,
        "outputHidden": false,
        "inputHidden": false
      }
    },
    {
      "cell_type": "code",
      "source": [
        "soup = BeautifulSoup(html, 'html.parser')"
      ],
      "outputs": [],
      "execution_count": null,
      "metadata": {
        "collapsed": false,
        "outputHidden": false,
        "inputHidden": false
      }
    },
    {
      "cell_type": "code",
      "source": [
        "soup.title"
      ],
      "outputs": [],
      "execution_count": null,
      "metadata": {
        "collapsed": false,
        "outputHidden": false,
        "inputHidden": false
      }
    },
    {
      "cell_type": "code",
      "source": [
        "soup.find_all('table')"
      ],
      "outputs": [],
      "execution_count": null,
      "metadata": {
        "collapsed": false,
        "outputHidden": false,
        "inputHidden": false
      }
    },
    {
      "cell_type": "code",
      "source": [
        "# tagged_values = soup.find_all('td', {'class':'Ta(end) Fw(v)'})\n",
        "tagged_values = soup.find_all('table')\n",
        "print(tagged_values)"
      ],
      "outputs": [],
      "execution_count": null,
      "metadata": {
        "collapsed": false,
        "outputHidden": false,
        "inputHidden": false
      }
    },
    {
      "cell_type": "code",
      "source": [
        "values = [x.get_text() for x in tagged_values]"
      ],
      "outputs": [],
      "execution_count": null,
      "metadata": {
        "collapsed": false,
        "outputHidden": false,
        "inputHidden": false
      }
    },
    {
      "cell_type": "code",
      "source": [
        "for value in values:\n",
        "    print(value)\n",
        "    \n",
        "print('\\n')"
      ],
      "outputs": [],
      "execution_count": null,
      "metadata": {
        "collapsed": false,
        "outputHidden": false,
        "inputHidden": false
      }
    },
    {
      "cell_type": "code",
      "source": [
        "import time\n",
        "import re\n",
        "from urllib.request import urlopen\n",
        "from bs4 import BeautifulSoup\n",
        "\n",
        "\n",
        "\n",
        "# Define the function to get Price/Book ratio from Yahoo finance\n",
        "def yahooKeyStats(stock):\n",
        "    try:\n",
        "        sourceCode = urlopen('https://finance.yahoo.com/quote/'+stock+'/key-statistics?p='+stock).read()\n",
        "        pbr = re.split('Price/Book',sourceCode.decode())[1]\n",
        "        pbr = pbr.split('</td>')[1]\n",
        "        pbr = pbr.split(\">\")[-1]\n",
        "        #print ('Price/Book ratio of '+ stock+' is '+pbr)\n",
        "        print(stock+pdr)\n",
        "    except:\n",
        "        print ('failed in the main loop')\n",
        "\n",
        "yahooKeyStats('RAD')"
      ],
      "outputs": [],
      "execution_count": null,
      "metadata": {
        "collapsed": false,
        "outputHidden": false,
        "inputHidden": false
      }
    },
    {
      "cell_type": "code",
      "source": [
        "stock = 'AMD'\n",
        "url = urlopen('https://finance.yahoo.com/quote/'+stock+'/key-statistics?p='+stock).read()\n",
        "url"
      ],
      "outputs": [],
      "execution_count": null,
      "metadata": {
        "collapsed": false,
        "outputHidden": false,
        "inputHidden": false
      }
    },
    {
      "cell_type": "code",
      "source": [
        "from openpyxl.utils.dataframe import dataframe_to_rows\n",
        "from selenium import webdriver\n",
        "\n",
        "url = \"https://finance.yahoo.com/quote/PBR/key-statistics?p=PBR\"\n",
        "bs = webdriver.Chrome(r'C:\\Users\\Tin Hang\\Anaconda3\\envs\\py35\\Lib\\site-packages\\selenium\\chromedriver.exe')\n",
        "bs.get(url)\n",
        "counter1 = bs.find_element_by_xpath(\"//*[@id=\\\"Col1-0-KeyStatistics-Proxy\\\"]/section/div[2]/div[1]/div[1]/div/table/tbody/tr[1]/td[2]\")\n",
        "print(counter1.text)"
      ],
      "outputs": [],
      "execution_count": null,
      "metadata": {
        "collapsed": false,
        "outputHidden": false,
        "inputHidden": false
      }
    },
    {
      "cell_type": "code",
      "source": [
        "from urllib.request import urlopen\n",
        "from bs4 import BeautifulSoup\n",
        "import pandas as pd\n",
        "\n",
        "\n",
        "url = 'https://finance.yahoo.com/quote/AMD/key-statistics?p=AMD' \n",
        "html = urlopen(url)\n",
        "soup = BeautifulSoup(html, \"lxml\")\n",
        "type(soup)"
      ],
      "outputs": [],
      "execution_count": null,
      "metadata": {
        "collapsed": false,
        "outputHidden": false,
        "inputHidden": false
      }
    },
    {
      "cell_type": "code",
      "source": [
        "table = soup.find('table')\n",
        "table"
      ],
      "outputs": [],
      "execution_count": null,
      "metadata": {
        "collapsed": false,
        "outputHidden": false,
        "inputHidden": false
      }
    },
    {
      "cell_type": "code",
      "source": [
        "rows = table.find_all('tr')\n",
        "rows"
      ],
      "outputs": [],
      "execution_count": null,
      "metadata": {
        "collapsed": false,
        "outputHidden": false,
        "inputHidden": false
      }
    },
    {
      "cell_type": "code",
      "source": [
        "def parse_table(table):\n",
        "    \"\"\" Get data from table \"\"\"\n",
        "    return [\n",
        "        [cell.get_text().strip() for cell in row.find_all(['th', 'td'])]\n",
        "           for row in table.find_all('tr')]\n",
        "\n",
        "parse_table(table)"
      ],
      "outputs": [],
      "execution_count": null,
      "metadata": {
        "collapsed": false,
        "outputHidden": false,
        "inputHidden": false
      }
    },
    {
      "cell_type": "code",
      "source": [
        "from urllib.request import urlopen\n",
        "from bs4 import BeautifulSoup\n",
        "import pandas as pd\n",
        "\n",
        "\n",
        "url = 'https://finance.yahoo.com/quote/AMD/key-statistics?p=AMD' \n",
        "html = urlopen(url)\n",
        "soup = BeautifulSoup(html, \"lxml\")\n",
        "titles = soup.title\n",
        "titles"
      ],
      "outputs": [],
      "execution_count": null,
      "metadata": {
        "collapsed": false,
        "outputHidden": false,
        "inputHidden": false
      }
    },
    {
      "cell_type": "code",
      "source": [
        "titles.string"
      ],
      "outputs": [],
      "execution_count": null,
      "metadata": {
        "collapsed": false,
        "outputHidden": false,
        "inputHidden": false
      }
    },
    {
      "cell_type": "code",
      "source": [
        "titles.p"
      ],
      "outputs": [],
      "execution_count": null,
      "metadata": {
        "collapsed": false,
        "outputHidden": false,
        "inputHidden": false
      }
    },
    {
      "cell_type": "code",
      "source": [
        "titles.p"
      ],
      "outputs": [],
      "execution_count": null,
      "metadata": {
        "collapsed": false,
        "outputHidden": false,
        "inputHidden": false
      }
    },
    {
      "cell_type": "code",
      "source": [
        "import urllib.request\n",
        "from bs4 import BeautifulSoup\n",
        "import re\n",
        "\n",
        "stock = 'AMD'\n",
        "url = urllib.request.urlopen('https://finance.yahoo.com/quote/'+stock+'/key-statistics?p='+stock).read() # read all of the page\n",
        "soup = BeautifulSoup(url,'lxml')"
      ],
      "outputs": [],
      "execution_count": 1,
      "metadata": {
        "collapsed": false,
        "outputHidden": false,
        "inputHidden": false
      }
    },
    {
      "cell_type": "code",
      "source": [
        "all_links=soup.find_all(\"a\")\n",
        "for link in all_links:\n",
        "    print(link.get(\"href\"))"
      ],
      "outputs": [
        {
          "output_type": "stream",
          "name": "stdout",
          "text": [
            "https://finance.yahoo.com/\n",
            "#Navigation\n",
            "#market-summary\n",
            "#Main\n",
            "#Aside\n",
            "https://mail.yahoo.com/?.intl=us&.lang=en-US&.partner=none&.src=finance\n",
            "/quote/AMD?p=AMD\n",
            "/quote/AMD/key-statistics?p=AMD\n",
            "/quote/AMD/profile?p=AMD\n",
            "/quote/AMD/financials?p=AMD\n",
            "/quote/AMD/options?p=AMD\n",
            "/quote/AMD/holders?p=AMD\n",
            "/quote/AMD/history?p=AMD\n",
            "/quote/AMD/analysts?p=AMD\n",
            "/quote/AMD/sustainability?p=AMD\n",
            "https://help.yahoo.com/kb/index?page=content&y=PROD_FIN_DESK&locale=en_US&id=SLN2310\n",
            "https://help.yahoo.com/kb/index?page=content&y=PROD_FIN_DESK&locale=en_US\n",
            "https://yahoo.uservoice.com/forums/382977\n",
            "http://info.yahoo.com/privacy/us/yahoo/\n",
            "http://info.yahoo.com/relevantads/\n",
            "http://info.yahoo.com/legal/us/yahoo/utos/utos-173.html\n",
            "https://twitter.com/YahooFinance\n",
            "https://facebook.com/yahoofinance\n",
            "http://yahoofinance.tumblr.com\n",
            "/\n",
            "/watchlists\n",
            "/portfolios?bypass=true\n",
            "/screener\n",
            "/calendar\n",
            "/industries\n",
            "/personal-finance\n",
            "/tech\n",
            "/topic/yahoo-finance-podcast\n",
            "/live/facebook\n"
          ]
        }
      ],
      "execution_count": 22,
      "metadata": {
        "collapsed": false,
        "outputHidden": false,
        "inputHidden": false
      }
    },
    {
      "cell_type": "code",
      "source": [
        "all_tables=soup.find_all('table')\n",
        "all_tables\n",
        "# <table class=\"table-qsp-stats Mt(10px)\" data-reactid=\"11\">\n",
        "# <table class=\"table-qsp-stats Mt(10px)\" data-reactid=\"85\">\n",
        "# <table class=\"table-qsp-stats Mt(10px)\" data-reactid=\"106\">\n",
        "# <table class=\"table-qsp-stats Mt(10px)\" data-reactid=\"125\">\n",
        "# <table class=\"table-qsp-stats Mt(10px)\" data-reactid=\"144\">\n",
        "# <table class=\"table-qsp-stats Mt(10px)\" data-reactid=\"206\">\n",
        "# <table class=\"table-qsp-stats Mt(10px)\" data-reactid=\"253\">\n",
        "# <table class=\"table-qsp-stats Mt(10px)\" data-reactid=\"279\">\n",
        "# <table class=\"table-qsp-stats Mt(10px)\" data-reactid=\"333\">\n",
        "# <table class=\"table-qsp-stats Mt(10px)\" data-reactid=\"408\">"
      ],
      "outputs": [
        {
          "output_type": "execute_result",
          "execution_count": 24,
          "data": {
            "text/plain": [
              "[<table class=\"table-qsp-stats Mt(10px)\" data-reactid=\"11\"><tbody data-reactid=\"12\"><tr data-reactid=\"13\"><td data-reactid=\"14\"><span data-reactid=\"15\">Market Cap (intraday)</span><!-- react-text: 16 --> <!-- /react-text --><!-- react-text: 17 --><!-- /react-text --><sup aria-label=\"Shares outstanding is taken from the most recently filed quarterly or annual report and Market Cap is calculated using shares outstanding.\" data-reactid=\"18\">5</sup></td><td class=\"Fz(s) Fw(500) Ta(end)\" data-reactid=\"19\">11.12B</td></tr><tr data-reactid=\"20\"><td data-reactid=\"21\"><span data-reactid=\"22\">Enterprise Value</span><!-- react-text: 23 --> <!-- /react-text --><!-- react-text: 24 --><!-- /react-text --><sup aria-label=\"Data derived from multiple sources or calculated by Yahoo Finance.\" data-reactid=\"25\">3</sup></td><td class=\"Fz(s) Fw(500) Ta(end)\" data-reactid=\"26\">11.22B</td></tr><tr data-reactid=\"27\"><td data-reactid=\"28\"><span data-reactid=\"29\">Trailing P/E</span><!-- react-text: 30 --> <!-- /react-text --><!-- react-text: 31 --><!-- /react-text --><sup aria-label=\"KS_HELP_SUP_undefined\" data-reactid=\"32\"></sup></td><td class=\"Fz(s) Fw(500) Ta(end)\" data-reactid=\"33\">286.75</td></tr><tr data-reactid=\"34\"><td data-reactid=\"35\"><span data-reactid=\"36\">Forward P/E</span><!-- react-text: 37 --> <!-- /react-text --><!-- react-text: 38 --><!-- /react-text --><sup aria-label=\"Data provided by Thomson Reuters.\" data-reactid=\"39\">1</sup></td><td class=\"Fz(s) Fw(500) Ta(end)\" data-reactid=\"40\">21.64</td></tr><tr data-reactid=\"41\"><td data-reactid=\"42\"><span data-reactid=\"43\">PEG Ratio (5 yr expected)</span><!-- react-text: 44 --> <!-- /react-text --><!-- react-text: 45 --><!-- /react-text --><sup aria-label=\"Data provided by Thomson Reuters.\" data-reactid=\"46\">1</sup></td><td class=\"Fz(s) Fw(500) Ta(end)\" data-reactid=\"47\">75.40</td></tr><tr data-reactid=\"48\"><td data-reactid=\"49\"><span data-reactid=\"50\">Price/Sales</span><!-- react-text: 51 --> <!-- /react-text --><!-- react-text: 52 -->(ttm)<!-- /react-text --><sup aria-label=\"KS_HELP_SUP_undefined\" data-reactid=\"53\"></sup></td><td class=\"Fz(s) Fw(500) Ta(end)\" data-reactid=\"54\">2.09</td></tr><tr data-reactid=\"55\"><td data-reactid=\"56\"><span data-reactid=\"57\">Price/Book</span><!-- react-text: 58 --> <!-- /react-text --><!-- react-text: 59 -->(mrq)<!-- /react-text --><sup aria-label=\"KS_HELP_SUP_undefined\" data-reactid=\"60\"></sup></td><td class=\"Fz(s) Fw(500) Ta(end)\" data-reactid=\"61\">18.15</td></tr><tr data-reactid=\"62\"><td data-reactid=\"63\"><span data-reactid=\"64\">Enterprise Value/Revenue</span><!-- react-text: 65 --> <!-- /react-text --><!-- react-text: 66 --><!-- /react-text --><sup aria-label=\"Data derived from multiple sources or calculated by Yahoo Finance.\" data-reactid=\"67\">3</sup></td><td class=\"Fz(s) Fw(500) Ta(end)\" data-reactid=\"68\">2.11</td></tr><tr data-reactid=\"69\"><td data-reactid=\"70\"><span data-reactid=\"71\">Enterprise Value/EBITDA</span><!-- react-text: 72 --> <!-- /react-text --><!-- react-text: 73 --><!-- /react-text --><sup aria-label=\"EBITDA is calculated by Capital IQ using methodology that may differ from that used by a company in its reporting.\" data-reactid=\"74\">6</sup></td><td class=\"Fz(s) Fw(500) Ta(end)\" data-reactid=\"75\">32.24</td></tr></tbody></table>,\n",
              " <table class=\"table-qsp-stats Mt(10px)\" data-reactid=\"85\"><tbody data-reactid=\"86\"><tr data-reactid=\"87\"><td data-reactid=\"88\"><span data-reactid=\"89\">Fiscal Year Ends</span><!-- react-text: 90 --> <!-- /react-text --><!-- react-text: 91 --><!-- /react-text --><sup aria-label=\"KS_HELP_SUP_undefined\" data-reactid=\"92\"></sup></td><td class=\"Fz(s) Fw(500) Ta(end)\" data-reactid=\"93\"><span data-reactid=\"94\">Dec 30, 2017</span></td></tr><tr data-reactid=\"95\"><td data-reactid=\"96\"><span data-reactid=\"97\">Most Recent Quarter</span><!-- react-text: 98 --> <!-- /react-text --><!-- react-text: 99 -->(mrq)<!-- /react-text --><sup aria-label=\"KS_HELP_SUP_undefined\" data-reactid=\"100\"></sup></td><td class=\"Fz(s) Fw(500) Ta(end)\" data-reactid=\"101\"><span data-reactid=\"102\">Dec 30, 2017</span></td></tr></tbody></table>,\n",
              " <table class=\"table-qsp-stats Mt(10px)\" data-reactid=\"106\"><tbody data-reactid=\"107\"><tr data-reactid=\"108\"><td data-reactid=\"109\"><span data-reactid=\"110\">Profit Margin</span><!-- react-text: 111 --> <!-- /react-text --><!-- react-text: 112 --><!-- /react-text --><sup aria-label=\"KS_HELP_SUP_undefined\" data-reactid=\"113\"></sup></td><td class=\"Fz(s) Fw(500) Ta(end)\" data-reactid=\"114\">0.81%</td></tr><tr data-reactid=\"115\"><td data-reactid=\"116\"><span data-reactid=\"117\">Operating Margin</span><!-- react-text: 118 --> <!-- /react-text --><!-- react-text: 119 -->(ttm)<!-- /react-text --><sup aria-label=\"KS_HELP_SUP_undefined\" data-reactid=\"120\"></sup></td><td class=\"Fz(s) Fw(500) Ta(end)\" data-reactid=\"121\">3.83%</td></tr></tbody></table>,\n",
              " <table class=\"table-qsp-stats Mt(10px)\" data-reactid=\"125\"><tbody data-reactid=\"126\"><tr data-reactid=\"127\"><td data-reactid=\"128\"><span data-reactid=\"129\">Return on Assets</span><!-- react-text: 130 --> <!-- /react-text --><!-- react-text: 131 -->(ttm)<!-- /react-text --><sup aria-label=\"KS_HELP_SUP_undefined\" data-reactid=\"132\"></sup></td><td class=\"Fz(s) Fw(500) Ta(end)\" data-reactid=\"133\">3.72%</td></tr><tr data-reactid=\"134\"><td data-reactid=\"135\"><span data-reactid=\"136\">Return on Equity</span><!-- react-text: 137 --> <!-- /react-text --><!-- react-text: 138 -->(ttm)<!-- /react-text --><sup aria-label=\"KS_HELP_SUP_undefined\" data-reactid=\"139\"></sup></td><td class=\"Fz(s) Fw(500) Ta(end)\" data-reactid=\"140\">8.37%</td></tr></tbody></table>,\n",
              " <table class=\"table-qsp-stats Mt(10px)\" data-reactid=\"144\"><tbody data-reactid=\"145\"><tr data-reactid=\"146\"><td data-reactid=\"147\"><span data-reactid=\"148\">Revenue</span><!-- react-text: 149 --> <!-- /react-text --><!-- react-text: 150 -->(ttm)<!-- /react-text --><sup aria-label=\"KS_HELP_SUP_undefined\" data-reactid=\"151\"></sup></td><td class=\"Fz(s) Fw(500) Ta(end)\" data-reactid=\"152\">5.33B</td></tr><tr data-reactid=\"153\"><td data-reactid=\"154\"><span data-reactid=\"155\">Revenue Per Share</span><!-- react-text: 156 --> <!-- /react-text --><!-- react-text: 157 -->(ttm)<!-- /react-text --><sup aria-label=\"KS_HELP_SUP_undefined\" data-reactid=\"158\"></sup></td><td class=\"Fz(s) Fw(500) Ta(end)\" data-reactid=\"159\">5.60</td></tr><tr data-reactid=\"160\"><td data-reactid=\"161\"><span data-reactid=\"162\">Quarterly Revenue Growth</span><!-- react-text: 163 --> <!-- /react-text --><!-- react-text: 164 -->(yoy)<!-- /react-text --><sup aria-label=\"KS_HELP_SUP_undefined\" data-reactid=\"165\"></sup></td><td class=\"Fz(s) Fw(500) Ta(end)\" data-reactid=\"166\">33.80%</td></tr><tr data-reactid=\"167\"><td data-reactid=\"168\"><span data-reactid=\"169\">Gross Profit</span><!-- react-text: 170 --> <!-- /react-text --><!-- react-text: 171 -->(ttm)<!-- /react-text --><sup aria-label=\"KS_HELP_SUP_undefined\" data-reactid=\"172\"></sup></td><td class=\"Fz(s) Fw(500) Ta(end)\" data-reactid=\"173\">1.82B</td></tr><tr data-reactid=\"174\"><td data-reactid=\"175\"><span data-reactid=\"176\">EBITDA</span><!-- react-text: 177 --> <!-- /react-text --><!-- react-text: 178 --><!-- /react-text --><sup aria-label=\"KS_HELP_SUP_undefined\" data-reactid=\"179\"></sup></td><td class=\"Fz(s) Fw(500) Ta(end)\" data-reactid=\"180\">348M</td></tr><tr data-reactid=\"181\"><td data-reactid=\"182\"><span data-reactid=\"183\">Net Income Avi to Common</span><!-- react-text: 184 --> <!-- /react-text --><!-- react-text: 185 -->(ttm)<!-- /react-text --><sup aria-label=\"KS_HELP_SUP_undefined\" data-reactid=\"186\"></sup></td><td class=\"Fz(s) Fw(500) Ta(end)\" data-reactid=\"187\">43M</td></tr><tr data-reactid=\"188\"><td data-reactid=\"189\"><span data-reactid=\"190\">Diluted EPS</span><!-- react-text: 191 --> <!-- /react-text --><!-- react-text: 192 -->(ttm)<!-- /react-text --><sup aria-label=\"KS_HELP_SUP_undefined\" data-reactid=\"193\"></sup></td><td class=\"Fz(s) Fw(500) Ta(end)\" data-reactid=\"194\">0.04</td></tr><tr data-reactid=\"195\"><td data-reactid=\"196\"><span data-reactid=\"197\">Quarterly Earnings Growth</span><!-- react-text: 198 --> <!-- /react-text --><!-- react-text: 199 -->(yoy)<!-- /react-text --><sup aria-label=\"KS_HELP_SUP_undefined\" data-reactid=\"200\"></sup></td><td class=\"Fz(s) Fw(500) Ta(end)\" data-reactid=\"201\"><span data-reactid=\"202\">N/A</span></td></tr></tbody></table>,\n",
              " <table class=\"table-qsp-stats Mt(10px)\" data-reactid=\"206\"><tbody data-reactid=\"207\"><tr data-reactid=\"208\"><td data-reactid=\"209\"><span data-reactid=\"210\">Total Cash</span><!-- react-text: 211 --> <!-- /react-text --><!-- react-text: 212 -->(mrq)<!-- /react-text --><sup aria-label=\"KS_HELP_SUP_undefined\" data-reactid=\"213\"></sup></td><td class=\"Fz(s) Fw(500) Ta(end)\" data-reactid=\"214\">1.18B</td></tr><tr data-reactid=\"215\"><td data-reactid=\"216\"><span data-reactid=\"217\">Total Cash Per Share</span><!-- react-text: 218 --> <!-- /react-text --><!-- react-text: 219 -->(mrq)<!-- /react-text --><sup aria-label=\"KS_HELP_SUP_undefined\" data-reactid=\"220\"></sup></td><td class=\"Fz(s) Fw(500) Ta(end)\" data-reactid=\"221\">1.22</td></tr><tr data-reactid=\"222\"><td data-reactid=\"223\"><span data-reactid=\"224\">Total Debt</span><!-- react-text: 225 --> <!-- /react-text --><!-- react-text: 226 -->(mrq)<!-- /react-text --><sup aria-label=\"KS_HELP_SUP_undefined\" data-reactid=\"227\"></sup></td><td class=\"Fz(s) Fw(500) Ta(end)\" data-reactid=\"228\">1.4B</td></tr><tr data-reactid=\"229\"><td data-reactid=\"230\"><span data-reactid=\"231\">Total Debt/Equity</span><!-- react-text: 232 --> <!-- /react-text --><!-- react-text: 233 -->(mrq)<!-- /react-text --><sup aria-label=\"KS_HELP_SUP_undefined\" data-reactid=\"234\"></sup></td><td class=\"Fz(s) Fw(500) Ta(end)\" data-reactid=\"235\">228.31</td></tr><tr data-reactid=\"236\"><td data-reactid=\"237\"><span data-reactid=\"238\">Current Ratio</span><!-- react-text: 239 --> <!-- /react-text --><!-- react-text: 240 -->(mrq)<!-- /react-text --><sup aria-label=\"KS_HELP_SUP_undefined\" data-reactid=\"241\"></sup></td><td class=\"Fz(s) Fw(500) Ta(end)\" data-reactid=\"242\">1.76</td></tr><tr data-reactid=\"243\"><td data-reactid=\"244\"><span data-reactid=\"245\">Book Value Per Share</span><!-- react-text: 246 --> <!-- /react-text --><!-- react-text: 247 -->(mrq)<!-- /react-text --><sup aria-label=\"KS_HELP_SUP_undefined\" data-reactid=\"248\"></sup></td><td class=\"Fz(s) Fw(500) Ta(end)\" data-reactid=\"249\">0.63</td></tr></tbody></table>,\n",
              " <table class=\"table-qsp-stats Mt(10px)\" data-reactid=\"253\"><tbody data-reactid=\"254\"><tr data-reactid=\"255\"><td data-reactid=\"256\"><span data-reactid=\"257\">Operating Cash Flow</span><!-- react-text: 258 --> <!-- /react-text --><!-- react-text: 259 -->(ttm)<!-- /react-text --><sup aria-label=\"KS_HELP_SUP_undefined\" data-reactid=\"260\"></sup></td><td class=\"Fz(s) Fw(500) Ta(end)\" data-reactid=\"261\">68M</td></tr><tr data-reactid=\"262\"><td data-reactid=\"263\"><span data-reactid=\"264\">Levered Free Cash Flow</span><!-- react-text: 265 --> <!-- /react-text --><!-- react-text: 266 -->(ttm)<!-- /react-text --><sup aria-label=\"KS_HELP_SUP_undefined\" data-reactid=\"267\"></sup></td><td class=\"Fz(s) Fw(500) Ta(end)\" data-reactid=\"268\">111.75M</td></tr></tbody></table>,\n",
              " <table class=\"table-qsp-stats Mt(10px)\" data-reactid=\"279\"><tbody data-reactid=\"280\"><tr data-reactid=\"281\"><td data-reactid=\"282\"><span data-reactid=\"283\">Beta</span><!-- react-text: 284 --> <!-- /react-text --><!-- react-text: 285 --><!-- /react-text --><sup aria-label=\"KS_HELP_SUP_undefined\" data-reactid=\"286\"></sup></td><td class=\"Fz(s) Fw(500) Ta(end)\" data-reactid=\"287\">3.25</td></tr><tr data-reactid=\"288\"><td data-reactid=\"289\"><span data-reactid=\"290\">52-Week Change</span><!-- react-text: 291 --> <!-- /react-text --><!-- react-text: 292 --><!-- /react-text --><sup aria-label=\"Data derived from multiple sources or calculated by Yahoo Finance.\" data-reactid=\"293\">3</sup></td><td class=\"Fz(s) Fw(500) Ta(end)\" data-reactid=\"294\">-15.05%</td></tr><tr data-reactid=\"295\"><td data-reactid=\"296\"><span data-reactid=\"297\">S&amp;P500 52-Week Change</span><!-- react-text: 298 --> <!-- /react-text --><!-- react-text: 299 --><!-- /react-text --><sup aria-label=\"Data derived from multiple sources or calculated by Yahoo Finance.\" data-reactid=\"300\">3</sup></td><td class=\"Fz(s) Fw(500) Ta(end)\" data-reactid=\"301\">15.52%</td></tr><tr data-reactid=\"302\"><td data-reactid=\"303\"><span data-reactid=\"304\">52 Week High</span><!-- react-text: 305 --> <!-- /react-text --><!-- react-text: 306 --><!-- /react-text --><sup aria-label=\"Data derived from multiple sources or calculated by Yahoo Finance.\" data-reactid=\"307\">3</sup></td><td class=\"Fz(s) Fw(500) Ta(end)\" data-reactid=\"308\">15.65</td></tr><tr data-reactid=\"309\"><td data-reactid=\"310\"><span data-reactid=\"311\">52 Week Low</span><!-- react-text: 312 --> <!-- /react-text --><!-- react-text: 313 --><!-- /react-text --><sup aria-label=\"Data derived from multiple sources or calculated by Yahoo Finance.\" data-reactid=\"314\">3</sup></td><td class=\"Fz(s) Fw(500) Ta(end)\" data-reactid=\"315\">9.70</td></tr><tr data-reactid=\"316\"><td data-reactid=\"317\"><span data-reactid=\"318\">50-Day Moving Average</span><!-- react-text: 319 --> <!-- /react-text --><!-- react-text: 320 --><!-- /react-text --><sup aria-label=\"Data derived from multiple sources or calculated by Yahoo Finance.\" data-reactid=\"321\">3</sup></td><td class=\"Fz(s) Fw(500) Ta(end)\" data-reactid=\"322\">12.06</td></tr><tr data-reactid=\"323\"><td data-reactid=\"324\"><span data-reactid=\"325\">200-Day Moving Average</span><!-- react-text: 326 --> <!-- /react-text --><!-- react-text: 327 --><!-- /react-text --><sup aria-label=\"Data derived from multiple sources or calculated by Yahoo Finance.\" data-reactid=\"328\">3</sup></td><td class=\"Fz(s) Fw(500) Ta(end)\" data-reactid=\"329\">12.02</td></tr></tbody></table>,\n",
              " <table class=\"table-qsp-stats Mt(10px)\" data-reactid=\"333\"><tbody data-reactid=\"334\"><tr data-reactid=\"335\"><td data-reactid=\"336\"><span data-reactid=\"337\">Avg Vol (3 month)</span><!-- react-text: 338 --> <!-- /react-text --><!-- react-text: 339 --><!-- /react-text --><sup aria-label=\"Data derived from multiple sources or calculated by Yahoo Finance.\" data-reactid=\"340\">3</sup></td><td class=\"Fz(s) Fw(500) Ta(end)\" data-reactid=\"341\">60.77M</td></tr><tr data-reactid=\"342\"><td data-reactid=\"343\"><span data-reactid=\"344\">Avg Vol (10 day)</span><!-- react-text: 345 --> <!-- /react-text --><!-- react-text: 346 --><!-- /react-text --><sup aria-label=\"Data derived from multiple sources or calculated by Yahoo Finance.\" data-reactid=\"347\">3</sup></td><td class=\"Fz(s) Fw(500) Ta(end)\" data-reactid=\"348\">92.71M</td></tr><tr data-reactid=\"349\"><td data-reactid=\"350\"><span data-reactid=\"351\">Shares Outstanding</span><!-- react-text: 352 --> <!-- /react-text --><!-- react-text: 353 --><!-- /react-text --><sup aria-label=\"Shares outstanding is taken from the most recently filed quarterly or annual report and Market Cap is calculated using shares outstanding.\" data-reactid=\"354\">5</sup></td><td class=\"Fz(s) Fw(500) Ta(end)\" data-reactid=\"355\">969.13M</td></tr><tr data-reactid=\"356\"><td data-reactid=\"357\"><span data-reactid=\"358\">Float</span><!-- react-text: 359 --> <!-- /react-text --><!-- react-text: 360 --><!-- /react-text --><sup aria-label=\"KS_HELP_SUP_undefined\" data-reactid=\"361\"></sup></td><td class=\"Fz(s) Fw(500) Ta(end)\" data-reactid=\"362\">830.3M</td></tr><tr data-reactid=\"363\"><td data-reactid=\"364\"><span data-reactid=\"365\">% Held by Insiders</span><!-- react-text: 366 --> <!-- /react-text --><!-- react-text: 367 --><!-- /react-text --><sup aria-label=\"Data provided by Thomson Reuters.\" data-reactid=\"368\">1</sup></td><td class=\"Fz(s) Fw(500) Ta(end)\" data-reactid=\"369\">0.64%</td></tr><tr data-reactid=\"370\"><td data-reactid=\"371\"><span data-reactid=\"372\">% Held by Institutions</span><!-- react-text: 373 --> <!-- /react-text --><!-- react-text: 374 --><!-- /react-text --><sup aria-label=\"Data provided by Thomson Reuters.\" data-reactid=\"375\">1</sup></td><td class=\"Fz(s) Fw(500) Ta(end)\" data-reactid=\"376\">72.56%</td></tr><tr data-reactid=\"377\"><td data-reactid=\"378\"><span data-reactid=\"379\">Shares Short</span><!-- react-text: 380 --> <!-- /react-text --><!-- react-text: 381 --><!-- /react-text --><sup aria-label=\"Data derived from multiple sources or calculated by Yahoo Finance.\" data-reactid=\"382\">3</sup></td><td class=\"Fz(s) Fw(500) Ta(end)\" data-reactid=\"383\">173.1M</td></tr><tr data-reactid=\"384\"><td data-reactid=\"385\"><span data-reactid=\"386\">Short Ratio</span><!-- react-text: 387 --> <!-- /react-text --><!-- react-text: 388 --><!-- /react-text --><sup aria-label=\"Data derived from multiple sources or calculated by Yahoo Finance.\" data-reactid=\"389\">3</sup></td><td class=\"Fz(s) Fw(500) Ta(end)\" data-reactid=\"390\">2.61</td></tr><tr data-reactid=\"391\"><td data-reactid=\"392\"><span data-reactid=\"393\">Short % of Float</span><!-- react-text: 394 --> <!-- /react-text --><!-- react-text: 395 --><!-- /react-text --><sup aria-label=\"Data derived from multiple sources or calculated by Yahoo Finance.\" data-reactid=\"396\">3</sup></td><td class=\"Fz(s) Fw(500) Ta(end)\" data-reactid=\"397\">21.82%</td></tr><tr data-reactid=\"398\"><td data-reactid=\"399\"><span data-reactid=\"400\">Shares Short (prior month)</span><!-- react-text: 401 --> <!-- /react-text --><!-- react-text: 402 --><!-- /react-text --><sup aria-label=\"Data derived from multiple sources or calculated by Yahoo Finance.\" data-reactid=\"403\">3</sup></td><td class=\"Fz(s) Fw(500) Ta(end)\" data-reactid=\"404\">154.97M</td></tr></tbody></table>,\n",
              " <table class=\"table-qsp-stats Mt(10px)\" data-reactid=\"408\"><tbody data-reactid=\"409\"><tr data-reactid=\"410\"><td data-reactid=\"411\"><span data-reactid=\"412\">Forward Annual Dividend Rate</span><!-- react-text: 413 --> <!-- /react-text --><!-- react-text: 414 --><!-- /react-text --><sup aria-label=\"Data provided by Morningstar, Inc.\" data-reactid=\"415\">4</sup></td><td class=\"Fz(s) Fw(500) Ta(end)\" data-reactid=\"416\"><span data-reactid=\"417\">N/A</span></td></tr><tr data-reactid=\"418\"><td data-reactid=\"419\"><span data-reactid=\"420\">Forward Annual Dividend Yield</span><!-- react-text: 421 --> <!-- /react-text --><!-- react-text: 422 --><!-- /react-text --><sup aria-label=\"Data provided by Morningstar, Inc.\" data-reactid=\"423\">4</sup></td><td class=\"Fz(s) Fw(500) Ta(end)\" data-reactid=\"424\"><span data-reactid=\"425\">N/A</span></td></tr><tr data-reactid=\"426\"><td data-reactid=\"427\"><span data-reactid=\"428\">Trailing Annual Dividend Rate</span><!-- react-text: 429 --> <!-- /react-text --><!-- react-text: 430 --><!-- /react-text --><sup aria-label=\"Data derived from multiple sources or calculated by Yahoo Finance.\" data-reactid=\"431\">3</sup></td><td class=\"Fz(s) Fw(500) Ta(end)\" data-reactid=\"432\"><span data-reactid=\"433\">N/A</span></td></tr><tr data-reactid=\"434\"><td data-reactid=\"435\"><span data-reactid=\"436\">Trailing Annual Dividend Yield</span><!-- react-text: 437 --> <!-- /react-text --><!-- react-text: 438 --><!-- /react-text --><sup aria-label=\"Data derived from multiple sources or calculated by Yahoo Finance.\" data-reactid=\"439\">3</sup></td><td class=\"Fz(s) Fw(500) Ta(end)\" data-reactid=\"440\"><span data-reactid=\"441\">N/A</span></td></tr><tr data-reactid=\"442\"><td data-reactid=\"443\"><span data-reactid=\"444\">5 Year Average Dividend Yield</span><!-- react-text: 445 --> <!-- /react-text --><!-- react-text: 446 --><!-- /react-text --><sup aria-label=\"Data provided by Morningstar, Inc.\" data-reactid=\"447\">4</sup></td><td class=\"Fz(s) Fw(500) Ta(end)\" data-reactid=\"448\"><span data-reactid=\"449\">N/A</span></td></tr><tr data-reactid=\"450\"><td data-reactid=\"451\"><span data-reactid=\"452\">Payout Ratio</span><!-- react-text: 453 --> <!-- /react-text --><!-- react-text: 454 --><!-- /react-text --><sup aria-label=\"Data provided by Morningstar, Inc.\" data-reactid=\"455\">4</sup></td><td class=\"Fz(s) Fw(500) Ta(end)\" data-reactid=\"456\">0.00%</td></tr><tr data-reactid=\"457\"><td data-reactid=\"458\"><span data-reactid=\"459\">Dividend Date</span><!-- react-text: 460 --> <!-- /react-text --><!-- react-text: 461 --><!-- /react-text --><sup aria-label=\"Data derived from multiple sources or calculated by Yahoo Finance.\" data-reactid=\"462\">3</sup></td><td class=\"Fz(s) Fw(500) Ta(end)\" data-reactid=\"463\"><span data-reactid=\"464\">N/A</span></td></tr><tr data-reactid=\"465\"><td data-reactid=\"466\"><span data-reactid=\"467\">Ex-Dividend Date</span><!-- react-text: 468 --> <!-- /react-text --><!-- react-text: 469 --><!-- /react-text --><sup aria-label=\"Data provided by Morningstar, Inc.\" data-reactid=\"470\">4</sup></td><td class=\"Fz(s) Fw(500) Ta(end)\" data-reactid=\"471\"><span data-reactid=\"472\">N/A</span></td></tr><tr data-reactid=\"473\"><td data-reactid=\"474\"><span data-reactid=\"475\">Last Split Factor (new per old)</span><!-- react-text: 476 --> <!-- /react-text --><!-- react-text: 477 --><!-- /react-text --><sup aria-label=\"Data provided by EDGAR Online.\" data-reactid=\"478\">2</sup></td><td class=\"Fz(s) Fw(500) Ta(end)\" data-reactid=\"479\">2/1</td></tr><tr data-reactid=\"480\"><td data-reactid=\"481\"><span data-reactid=\"482\">Last Split Date</span><!-- react-text: 483 --> <!-- /react-text --><!-- react-text: 484 --><!-- /react-text --><sup aria-label=\"Data derived from multiple sources or calculated by Yahoo Finance.\" data-reactid=\"485\">3</sup></td><td class=\"Fz(s) Fw(500) Ta(end)\" data-reactid=\"486\"><span data-reactid=\"487\">Aug 22, 2000</span></td></tr></tbody></table>]"
            ]
          },
          "metadata": {}
        }
      ],
      "execution_count": 24,
      "metadata": {
        "collapsed": false,
        "outputHidden": false,
        "inputHidden": false
      }
    },
    {
      "cell_type": "code",
      "source": [
        "rows = soup.find_all(['th', 'tr'])\n",
        "rows"
      ],
      "outputs": [
        {
          "output_type": "execute_result",
          "execution_count": 20,
          "data": {
            "text/plain": [
              "[<tr data-reactid=\"13\"><td data-reactid=\"14\"><span data-reactid=\"15\">Market Cap (intraday)</span><!-- react-text: 16 --> <!-- /react-text --><!-- react-text: 17 --><!-- /react-text --><sup aria-label=\"Shares outstanding is taken from the most recently filed quarterly or annual report and Market Cap is calculated using shares outstanding.\" data-reactid=\"18\">5</sup></td><td class=\"Fz(s) Fw(500) Ta(end)\" data-reactid=\"19\">11.12B</td></tr>,\n",
              " <tr data-reactid=\"20\"><td data-reactid=\"21\"><span data-reactid=\"22\">Enterprise Value</span><!-- react-text: 23 --> <!-- /react-text --><!-- react-text: 24 --><!-- /react-text --><sup aria-label=\"Data derived from multiple sources or calculated by Yahoo Finance.\" data-reactid=\"25\">3</sup></td><td class=\"Fz(s) Fw(500) Ta(end)\" data-reactid=\"26\">11.22B</td></tr>,\n",
              " <tr data-reactid=\"27\"><td data-reactid=\"28\"><span data-reactid=\"29\">Trailing P/E</span><!-- react-text: 30 --> <!-- /react-text --><!-- react-text: 31 --><!-- /react-text --><sup aria-label=\"KS_HELP_SUP_undefined\" data-reactid=\"32\"></sup></td><td class=\"Fz(s) Fw(500) Ta(end)\" data-reactid=\"33\">286.75</td></tr>,\n",
              " <tr data-reactid=\"34\"><td data-reactid=\"35\"><span data-reactid=\"36\">Forward P/E</span><!-- react-text: 37 --> <!-- /react-text --><!-- react-text: 38 --><!-- /react-text --><sup aria-label=\"Data provided by Thomson Reuters.\" data-reactid=\"39\">1</sup></td><td class=\"Fz(s) Fw(500) Ta(end)\" data-reactid=\"40\">21.64</td></tr>,\n",
              " <tr data-reactid=\"41\"><td data-reactid=\"42\"><span data-reactid=\"43\">PEG Ratio (5 yr expected)</span><!-- react-text: 44 --> <!-- /react-text --><!-- react-text: 45 --><!-- /react-text --><sup aria-label=\"Data provided by Thomson Reuters.\" data-reactid=\"46\">1</sup></td><td class=\"Fz(s) Fw(500) Ta(end)\" data-reactid=\"47\">75.40</td></tr>,\n",
              " <tr data-reactid=\"48\"><td data-reactid=\"49\"><span data-reactid=\"50\">Price/Sales</span><!-- react-text: 51 --> <!-- /react-text --><!-- react-text: 52 -->(ttm)<!-- /react-text --><sup aria-label=\"KS_HELP_SUP_undefined\" data-reactid=\"53\"></sup></td><td class=\"Fz(s) Fw(500) Ta(end)\" data-reactid=\"54\">2.09</td></tr>,\n",
              " <tr data-reactid=\"55\"><td data-reactid=\"56\"><span data-reactid=\"57\">Price/Book</span><!-- react-text: 58 --> <!-- /react-text --><!-- react-text: 59 -->(mrq)<!-- /react-text --><sup aria-label=\"KS_HELP_SUP_undefined\" data-reactid=\"60\"></sup></td><td class=\"Fz(s) Fw(500) Ta(end)\" data-reactid=\"61\">18.15</td></tr>,\n",
              " <tr data-reactid=\"62\"><td data-reactid=\"63\"><span data-reactid=\"64\">Enterprise Value/Revenue</span><!-- react-text: 65 --> <!-- /react-text --><!-- react-text: 66 --><!-- /react-text --><sup aria-label=\"Data derived from multiple sources or calculated by Yahoo Finance.\" data-reactid=\"67\">3</sup></td><td class=\"Fz(s) Fw(500) Ta(end)\" data-reactid=\"68\">2.11</td></tr>,\n",
              " <tr data-reactid=\"69\"><td data-reactid=\"70\"><span data-reactid=\"71\">Enterprise Value/EBITDA</span><!-- react-text: 72 --> <!-- /react-text --><!-- react-text: 73 --><!-- /react-text --><sup aria-label=\"EBITDA is calculated by Capital IQ using methodology that may differ from that used by a company in its reporting.\" data-reactid=\"74\">6</sup></td><td class=\"Fz(s) Fw(500) Ta(end)\" data-reactid=\"75\">32.24</td></tr>,\n",
              " <tr data-reactid=\"87\"><td data-reactid=\"88\"><span data-reactid=\"89\">Fiscal Year Ends</span><!-- react-text: 90 --> <!-- /react-text --><!-- react-text: 91 --><!-- /react-text --><sup aria-label=\"KS_HELP_SUP_undefined\" data-reactid=\"92\"></sup></td><td class=\"Fz(s) Fw(500) Ta(end)\" data-reactid=\"93\"><span data-reactid=\"94\">Dec 30, 2017</span></td></tr>,\n",
              " <tr data-reactid=\"95\"><td data-reactid=\"96\"><span data-reactid=\"97\">Most Recent Quarter</span><!-- react-text: 98 --> <!-- /react-text --><!-- react-text: 99 -->(mrq)<!-- /react-text --><sup aria-label=\"KS_HELP_SUP_undefined\" data-reactid=\"100\"></sup></td><td class=\"Fz(s) Fw(500) Ta(end)\" data-reactid=\"101\"><span data-reactid=\"102\">Dec 30, 2017</span></td></tr>,\n",
              " <tr data-reactid=\"108\"><td data-reactid=\"109\"><span data-reactid=\"110\">Profit Margin</span><!-- react-text: 111 --> <!-- /react-text --><!-- react-text: 112 --><!-- /react-text --><sup aria-label=\"KS_HELP_SUP_undefined\" data-reactid=\"113\"></sup></td><td class=\"Fz(s) Fw(500) Ta(end)\" data-reactid=\"114\">0.81%</td></tr>,\n",
              " <tr data-reactid=\"115\"><td data-reactid=\"116\"><span data-reactid=\"117\">Operating Margin</span><!-- react-text: 118 --> <!-- /react-text --><!-- react-text: 119 -->(ttm)<!-- /react-text --><sup aria-label=\"KS_HELP_SUP_undefined\" data-reactid=\"120\"></sup></td><td class=\"Fz(s) Fw(500) Ta(end)\" data-reactid=\"121\">3.83%</td></tr>,\n",
              " <tr data-reactid=\"127\"><td data-reactid=\"128\"><span data-reactid=\"129\">Return on Assets</span><!-- react-text: 130 --> <!-- /react-text --><!-- react-text: 131 -->(ttm)<!-- /react-text --><sup aria-label=\"KS_HELP_SUP_undefined\" data-reactid=\"132\"></sup></td><td class=\"Fz(s) Fw(500) Ta(end)\" data-reactid=\"133\">3.72%</td></tr>,\n",
              " <tr data-reactid=\"134\"><td data-reactid=\"135\"><span data-reactid=\"136\">Return on Equity</span><!-- react-text: 137 --> <!-- /react-text --><!-- react-text: 138 -->(ttm)<!-- /react-text --><sup aria-label=\"KS_HELP_SUP_undefined\" data-reactid=\"139\"></sup></td><td class=\"Fz(s) Fw(500) Ta(end)\" data-reactid=\"140\">8.37%</td></tr>,\n",
              " <tr data-reactid=\"146\"><td data-reactid=\"147\"><span data-reactid=\"148\">Revenue</span><!-- react-text: 149 --> <!-- /react-text --><!-- react-text: 150 -->(ttm)<!-- /react-text --><sup aria-label=\"KS_HELP_SUP_undefined\" data-reactid=\"151\"></sup></td><td class=\"Fz(s) Fw(500) Ta(end)\" data-reactid=\"152\">5.33B</td></tr>,\n",
              " <tr data-reactid=\"153\"><td data-reactid=\"154\"><span data-reactid=\"155\">Revenue Per Share</span><!-- react-text: 156 --> <!-- /react-text --><!-- react-text: 157 -->(ttm)<!-- /react-text --><sup aria-label=\"KS_HELP_SUP_undefined\" data-reactid=\"158\"></sup></td><td class=\"Fz(s) Fw(500) Ta(end)\" data-reactid=\"159\">5.60</td></tr>,\n",
              " <tr data-reactid=\"160\"><td data-reactid=\"161\"><span data-reactid=\"162\">Quarterly Revenue Growth</span><!-- react-text: 163 --> <!-- /react-text --><!-- react-text: 164 -->(yoy)<!-- /react-text --><sup aria-label=\"KS_HELP_SUP_undefined\" data-reactid=\"165\"></sup></td><td class=\"Fz(s) Fw(500) Ta(end)\" data-reactid=\"166\">33.80%</td></tr>,\n",
              " <tr data-reactid=\"167\"><td data-reactid=\"168\"><span data-reactid=\"169\">Gross Profit</span><!-- react-text: 170 --> <!-- /react-text --><!-- react-text: 171 -->(ttm)<!-- /react-text --><sup aria-label=\"KS_HELP_SUP_undefined\" data-reactid=\"172\"></sup></td><td class=\"Fz(s) Fw(500) Ta(end)\" data-reactid=\"173\">1.82B</td></tr>,\n",
              " <tr data-reactid=\"174\"><td data-reactid=\"175\"><span data-reactid=\"176\">EBITDA</span><!-- react-text: 177 --> <!-- /react-text --><!-- react-text: 178 --><!-- /react-text --><sup aria-label=\"KS_HELP_SUP_undefined\" data-reactid=\"179\"></sup></td><td class=\"Fz(s) Fw(500) Ta(end)\" data-reactid=\"180\">348M</td></tr>,\n",
              " <tr data-reactid=\"181\"><td data-reactid=\"182\"><span data-reactid=\"183\">Net Income Avi to Common</span><!-- react-text: 184 --> <!-- /react-text --><!-- react-text: 185 -->(ttm)<!-- /react-text --><sup aria-label=\"KS_HELP_SUP_undefined\" data-reactid=\"186\"></sup></td><td class=\"Fz(s) Fw(500) Ta(end)\" data-reactid=\"187\">43M</td></tr>,\n",
              " <tr data-reactid=\"188\"><td data-reactid=\"189\"><span data-reactid=\"190\">Diluted EPS</span><!-- react-text: 191 --> <!-- /react-text --><!-- react-text: 192 -->(ttm)<!-- /react-text --><sup aria-label=\"KS_HELP_SUP_undefined\" data-reactid=\"193\"></sup></td><td class=\"Fz(s) Fw(500) Ta(end)\" data-reactid=\"194\">0.04</td></tr>,\n",
              " <tr data-reactid=\"195\"><td data-reactid=\"196\"><span data-reactid=\"197\">Quarterly Earnings Growth</span><!-- react-text: 198 --> <!-- /react-text --><!-- react-text: 199 -->(yoy)<!-- /react-text --><sup aria-label=\"KS_HELP_SUP_undefined\" data-reactid=\"200\"></sup></td><td class=\"Fz(s) Fw(500) Ta(end)\" data-reactid=\"201\"><span data-reactid=\"202\">N/A</span></td></tr>,\n",
              " <tr data-reactid=\"208\"><td data-reactid=\"209\"><span data-reactid=\"210\">Total Cash</span><!-- react-text: 211 --> <!-- /react-text --><!-- react-text: 212 -->(mrq)<!-- /react-text --><sup aria-label=\"KS_HELP_SUP_undefined\" data-reactid=\"213\"></sup></td><td class=\"Fz(s) Fw(500) Ta(end)\" data-reactid=\"214\">1.18B</td></tr>,\n",
              " <tr data-reactid=\"215\"><td data-reactid=\"216\"><span data-reactid=\"217\">Total Cash Per Share</span><!-- react-text: 218 --> <!-- /react-text --><!-- react-text: 219 -->(mrq)<!-- /react-text --><sup aria-label=\"KS_HELP_SUP_undefined\" data-reactid=\"220\"></sup></td><td class=\"Fz(s) Fw(500) Ta(end)\" data-reactid=\"221\">1.22</td></tr>,\n",
              " <tr data-reactid=\"222\"><td data-reactid=\"223\"><span data-reactid=\"224\">Total Debt</span><!-- react-text: 225 --> <!-- /react-text --><!-- react-text: 226 -->(mrq)<!-- /react-text --><sup aria-label=\"KS_HELP_SUP_undefined\" data-reactid=\"227\"></sup></td><td class=\"Fz(s) Fw(500) Ta(end)\" data-reactid=\"228\">1.4B</td></tr>,\n",
              " <tr data-reactid=\"229\"><td data-reactid=\"230\"><span data-reactid=\"231\">Total Debt/Equity</span><!-- react-text: 232 --> <!-- /react-text --><!-- react-text: 233 -->(mrq)<!-- /react-text --><sup aria-label=\"KS_HELP_SUP_undefined\" data-reactid=\"234\"></sup></td><td class=\"Fz(s) Fw(500) Ta(end)\" data-reactid=\"235\">228.31</td></tr>,\n",
              " <tr data-reactid=\"236\"><td data-reactid=\"237\"><span data-reactid=\"238\">Current Ratio</span><!-- react-text: 239 --> <!-- /react-text --><!-- react-text: 240 -->(mrq)<!-- /react-text --><sup aria-label=\"KS_HELP_SUP_undefined\" data-reactid=\"241\"></sup></td><td class=\"Fz(s) Fw(500) Ta(end)\" data-reactid=\"242\">1.76</td></tr>,\n",
              " <tr data-reactid=\"243\"><td data-reactid=\"244\"><span data-reactid=\"245\">Book Value Per Share</span><!-- react-text: 246 --> <!-- /react-text --><!-- react-text: 247 -->(mrq)<!-- /react-text --><sup aria-label=\"KS_HELP_SUP_undefined\" data-reactid=\"248\"></sup></td><td class=\"Fz(s) Fw(500) Ta(end)\" data-reactid=\"249\">0.63</td></tr>,\n",
              " <tr data-reactid=\"255\"><td data-reactid=\"256\"><span data-reactid=\"257\">Operating Cash Flow</span><!-- react-text: 258 --> <!-- /react-text --><!-- react-text: 259 -->(ttm)<!-- /react-text --><sup aria-label=\"KS_HELP_SUP_undefined\" data-reactid=\"260\"></sup></td><td class=\"Fz(s) Fw(500) Ta(end)\" data-reactid=\"261\">68M</td></tr>,\n",
              " <tr data-reactid=\"262\"><td data-reactid=\"263\"><span data-reactid=\"264\">Levered Free Cash Flow</span><!-- react-text: 265 --> <!-- /react-text --><!-- react-text: 266 -->(ttm)<!-- /react-text --><sup aria-label=\"KS_HELP_SUP_undefined\" data-reactid=\"267\"></sup></td><td class=\"Fz(s) Fw(500) Ta(end)\" data-reactid=\"268\">111.75M</td></tr>,\n",
              " <tr data-reactid=\"281\"><td data-reactid=\"282\"><span data-reactid=\"283\">Beta</span><!-- react-text: 284 --> <!-- /react-text --><!-- react-text: 285 --><!-- /react-text --><sup aria-label=\"KS_HELP_SUP_undefined\" data-reactid=\"286\"></sup></td><td class=\"Fz(s) Fw(500) Ta(end)\" data-reactid=\"287\">3.25</td></tr>,\n",
              " <tr data-reactid=\"288\"><td data-reactid=\"289\"><span data-reactid=\"290\">52-Week Change</span><!-- react-text: 291 --> <!-- /react-text --><!-- react-text: 292 --><!-- /react-text --><sup aria-label=\"Data derived from multiple sources or calculated by Yahoo Finance.\" data-reactid=\"293\">3</sup></td><td class=\"Fz(s) Fw(500) Ta(end)\" data-reactid=\"294\">-15.05%</td></tr>,\n",
              " <tr data-reactid=\"295\"><td data-reactid=\"296\"><span data-reactid=\"297\">S&amp;P500 52-Week Change</span><!-- react-text: 298 --> <!-- /react-text --><!-- react-text: 299 --><!-- /react-text --><sup aria-label=\"Data derived from multiple sources or calculated by Yahoo Finance.\" data-reactid=\"300\">3</sup></td><td class=\"Fz(s) Fw(500) Ta(end)\" data-reactid=\"301\">15.52%</td></tr>,\n",
              " <tr data-reactid=\"302\"><td data-reactid=\"303\"><span data-reactid=\"304\">52 Week High</span><!-- react-text: 305 --> <!-- /react-text --><!-- react-text: 306 --><!-- /react-text --><sup aria-label=\"Data derived from multiple sources or calculated by Yahoo Finance.\" data-reactid=\"307\">3</sup></td><td class=\"Fz(s) Fw(500) Ta(end)\" data-reactid=\"308\">15.65</td></tr>,\n",
              " <tr data-reactid=\"309\"><td data-reactid=\"310\"><span data-reactid=\"311\">52 Week Low</span><!-- react-text: 312 --> <!-- /react-text --><!-- react-text: 313 --><!-- /react-text --><sup aria-label=\"Data derived from multiple sources or calculated by Yahoo Finance.\" data-reactid=\"314\">3</sup></td><td class=\"Fz(s) Fw(500) Ta(end)\" data-reactid=\"315\">9.70</td></tr>,\n",
              " <tr data-reactid=\"316\"><td data-reactid=\"317\"><span data-reactid=\"318\">50-Day Moving Average</span><!-- react-text: 319 --> <!-- /react-text --><!-- react-text: 320 --><!-- /react-text --><sup aria-label=\"Data derived from multiple sources or calculated by Yahoo Finance.\" data-reactid=\"321\">3</sup></td><td class=\"Fz(s) Fw(500) Ta(end)\" data-reactid=\"322\">12.06</td></tr>,\n",
              " <tr data-reactid=\"323\"><td data-reactid=\"324\"><span data-reactid=\"325\">200-Day Moving Average</span><!-- react-text: 326 --> <!-- /react-text --><!-- react-text: 327 --><!-- /react-text --><sup aria-label=\"Data derived from multiple sources or calculated by Yahoo Finance.\" data-reactid=\"328\">3</sup></td><td class=\"Fz(s) Fw(500) Ta(end)\" data-reactid=\"329\">12.02</td></tr>,\n",
              " <tr data-reactid=\"335\"><td data-reactid=\"336\"><span data-reactid=\"337\">Avg Vol (3 month)</span><!-- react-text: 338 --> <!-- /react-text --><!-- react-text: 339 --><!-- /react-text --><sup aria-label=\"Data derived from multiple sources or calculated by Yahoo Finance.\" data-reactid=\"340\">3</sup></td><td class=\"Fz(s) Fw(500) Ta(end)\" data-reactid=\"341\">60.77M</td></tr>,\n",
              " <tr data-reactid=\"342\"><td data-reactid=\"343\"><span data-reactid=\"344\">Avg Vol (10 day)</span><!-- react-text: 345 --> <!-- /react-text --><!-- react-text: 346 --><!-- /react-text --><sup aria-label=\"Data derived from multiple sources or calculated by Yahoo Finance.\" data-reactid=\"347\">3</sup></td><td class=\"Fz(s) Fw(500) Ta(end)\" data-reactid=\"348\">92.71M</td></tr>,\n",
              " <tr data-reactid=\"349\"><td data-reactid=\"350\"><span data-reactid=\"351\">Shares Outstanding</span><!-- react-text: 352 --> <!-- /react-text --><!-- react-text: 353 --><!-- /react-text --><sup aria-label=\"Shares outstanding is taken from the most recently filed quarterly or annual report and Market Cap is calculated using shares outstanding.\" data-reactid=\"354\">5</sup></td><td class=\"Fz(s) Fw(500) Ta(end)\" data-reactid=\"355\">969.13M</td></tr>,\n",
              " <tr data-reactid=\"356\"><td data-reactid=\"357\"><span data-reactid=\"358\">Float</span><!-- react-text: 359 --> <!-- /react-text --><!-- react-text: 360 --><!-- /react-text --><sup aria-label=\"KS_HELP_SUP_undefined\" data-reactid=\"361\"></sup></td><td class=\"Fz(s) Fw(500) Ta(end)\" data-reactid=\"362\">830.3M</td></tr>,\n",
              " <tr data-reactid=\"363\"><td data-reactid=\"364\"><span data-reactid=\"365\">% Held by Insiders</span><!-- react-text: 366 --> <!-- /react-text --><!-- react-text: 367 --><!-- /react-text --><sup aria-label=\"Data provided by Thomson Reuters.\" data-reactid=\"368\">1</sup></td><td class=\"Fz(s) Fw(500) Ta(end)\" data-reactid=\"369\">0.64%</td></tr>,\n",
              " <tr data-reactid=\"370\"><td data-reactid=\"371\"><span data-reactid=\"372\">% Held by Institutions</span><!-- react-text: 373 --> <!-- /react-text --><!-- react-text: 374 --><!-- /react-text --><sup aria-label=\"Data provided by Thomson Reuters.\" data-reactid=\"375\">1</sup></td><td class=\"Fz(s) Fw(500) Ta(end)\" data-reactid=\"376\">72.56%</td></tr>,\n",
              " <tr data-reactid=\"377\"><td data-reactid=\"378\"><span data-reactid=\"379\">Shares Short</span><!-- react-text: 380 --> <!-- /react-text --><!-- react-text: 381 --><!-- /react-text --><sup aria-label=\"Data derived from multiple sources or calculated by Yahoo Finance.\" data-reactid=\"382\">3</sup></td><td class=\"Fz(s) Fw(500) Ta(end)\" data-reactid=\"383\">173.1M</td></tr>,\n",
              " <tr data-reactid=\"384\"><td data-reactid=\"385\"><span data-reactid=\"386\">Short Ratio</span><!-- react-text: 387 --> <!-- /react-text --><!-- react-text: 388 --><!-- /react-text --><sup aria-label=\"Data derived from multiple sources or calculated by Yahoo Finance.\" data-reactid=\"389\">3</sup></td><td class=\"Fz(s) Fw(500) Ta(end)\" data-reactid=\"390\">2.61</td></tr>,\n",
              " <tr data-reactid=\"391\"><td data-reactid=\"392\"><span data-reactid=\"393\">Short % of Float</span><!-- react-text: 394 --> <!-- /react-text --><!-- react-text: 395 --><!-- /react-text --><sup aria-label=\"Data derived from multiple sources or calculated by Yahoo Finance.\" data-reactid=\"396\">3</sup></td><td class=\"Fz(s) Fw(500) Ta(end)\" data-reactid=\"397\">21.82%</td></tr>,\n",
              " <tr data-reactid=\"398\"><td data-reactid=\"399\"><span data-reactid=\"400\">Shares Short (prior month)</span><!-- react-text: 401 --> <!-- /react-text --><!-- react-text: 402 --><!-- /react-text --><sup aria-label=\"Data derived from multiple sources or calculated by Yahoo Finance.\" data-reactid=\"403\">3</sup></td><td class=\"Fz(s) Fw(500) Ta(end)\" data-reactid=\"404\">154.97M</td></tr>,\n",
              " <tr data-reactid=\"410\"><td data-reactid=\"411\"><span data-reactid=\"412\">Forward Annual Dividend Rate</span><!-- react-text: 413 --> <!-- /react-text --><!-- react-text: 414 --><!-- /react-text --><sup aria-label=\"Data provided by Morningstar, Inc.\" data-reactid=\"415\">4</sup></td><td class=\"Fz(s) Fw(500) Ta(end)\" data-reactid=\"416\"><span data-reactid=\"417\">N/A</span></td></tr>,\n",
              " <tr data-reactid=\"418\"><td data-reactid=\"419\"><span data-reactid=\"420\">Forward Annual Dividend Yield</span><!-- react-text: 421 --> <!-- /react-text --><!-- react-text: 422 --><!-- /react-text --><sup aria-label=\"Data provided by Morningstar, Inc.\" data-reactid=\"423\">4</sup></td><td class=\"Fz(s) Fw(500) Ta(end)\" data-reactid=\"424\"><span data-reactid=\"425\">N/A</span></td></tr>,\n",
              " <tr data-reactid=\"426\"><td data-reactid=\"427\"><span data-reactid=\"428\">Trailing Annual Dividend Rate</span><!-- react-text: 429 --> <!-- /react-text --><!-- react-text: 430 --><!-- /react-text --><sup aria-label=\"Data derived from multiple sources or calculated by Yahoo Finance.\" data-reactid=\"431\">3</sup></td><td class=\"Fz(s) Fw(500) Ta(end)\" data-reactid=\"432\"><span data-reactid=\"433\">N/A</span></td></tr>,\n",
              " <tr data-reactid=\"434\"><td data-reactid=\"435\"><span data-reactid=\"436\">Trailing Annual Dividend Yield</span><!-- react-text: 437 --> <!-- /react-text --><!-- react-text: 438 --><!-- /react-text --><sup aria-label=\"Data derived from multiple sources or calculated by Yahoo Finance.\" data-reactid=\"439\">3</sup></td><td class=\"Fz(s) Fw(500) Ta(end)\" data-reactid=\"440\"><span data-reactid=\"441\">N/A</span></td></tr>,\n",
              " <tr data-reactid=\"442\"><td data-reactid=\"443\"><span data-reactid=\"444\">5 Year Average Dividend Yield</span><!-- react-text: 445 --> <!-- /react-text --><!-- react-text: 446 --><!-- /react-text --><sup aria-label=\"Data provided by Morningstar, Inc.\" data-reactid=\"447\">4</sup></td><td class=\"Fz(s) Fw(500) Ta(end)\" data-reactid=\"448\"><span data-reactid=\"449\">N/A</span></td></tr>,\n",
              " <tr data-reactid=\"450\"><td data-reactid=\"451\"><span data-reactid=\"452\">Payout Ratio</span><!-- react-text: 453 --> <!-- /react-text --><!-- react-text: 454 --><!-- /react-text --><sup aria-label=\"Data provided by Morningstar, Inc.\" data-reactid=\"455\">4</sup></td><td class=\"Fz(s) Fw(500) Ta(end)\" data-reactid=\"456\">0.00%</td></tr>,\n",
              " <tr data-reactid=\"457\"><td data-reactid=\"458\"><span data-reactid=\"459\">Dividend Date</span><!-- react-text: 460 --> <!-- /react-text --><!-- react-text: 461 --><!-- /react-text --><sup aria-label=\"Data derived from multiple sources or calculated by Yahoo Finance.\" data-reactid=\"462\">3</sup></td><td class=\"Fz(s) Fw(500) Ta(end)\" data-reactid=\"463\"><span data-reactid=\"464\">N/A</span></td></tr>,\n",
              " <tr data-reactid=\"465\"><td data-reactid=\"466\"><span data-reactid=\"467\">Ex-Dividend Date</span><!-- react-text: 468 --> <!-- /react-text --><!-- react-text: 469 --><!-- /react-text --><sup aria-label=\"Data provided by Morningstar, Inc.\" data-reactid=\"470\">4</sup></td><td class=\"Fz(s) Fw(500) Ta(end)\" data-reactid=\"471\"><span data-reactid=\"472\">N/A</span></td></tr>,\n",
              " <tr data-reactid=\"473\"><td data-reactid=\"474\"><span data-reactid=\"475\">Last Split Factor (new per old)</span><!-- react-text: 476 --> <!-- /react-text --><!-- react-text: 477 --><!-- /react-text --><sup aria-label=\"Data provided by EDGAR Online.\" data-reactid=\"478\">2</sup></td><td class=\"Fz(s) Fw(500) Ta(end)\" data-reactid=\"479\">2/1</td></tr>,\n",
              " <tr data-reactid=\"480\"><td data-reactid=\"481\"><span data-reactid=\"482\">Last Split Date</span><!-- react-text: 483 --> <!-- /react-text --><!-- react-text: 484 --><!-- /react-text --><sup aria-label=\"Data derived from multiple sources or calculated by Yahoo Finance.\" data-reactid=\"485\">3</sup></td><td class=\"Fz(s) Fw(500) Ta(end)\" data-reactid=\"486\"><span data-reactid=\"487\">Aug 22, 2000</span></td></tr>]"
            ]
          },
          "metadata": {}
        }
      ],
      "execution_count": 20,
      "metadata": {
        "collapsed": false,
        "outputHidden": false,
        "inputHidden": false
      }
    }
  ],
  "metadata": {
    "kernel_info": {
      "name": "python3"
    },
    "kernelspec": {
      "name": "python3",
      "language": "python",
      "display_name": "Python 3"
    },
    "language_info": {
      "version": "3.5.5",
      "file_extension": ".py",
      "pygments_lexer": "ipython3",
      "name": "python",
      "codemirror_mode": {
        "version": 3,
        "name": "ipython"
      },
      "mimetype": "text/x-python",
      "nbconvert_exporter": "python"
    },
    "nteract": {
      "version": "0.14.0"
    }
  },
  "nbformat": 4,
  "nbformat_minor": 4
}